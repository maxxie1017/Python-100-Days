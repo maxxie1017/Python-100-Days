{
 "cells": [
  {
   "cell_type": "code",
   "execution_count": 2,
   "metadata": {},
   "outputs": [
    {
     "data": {
      "text/plain": [
       "'京欢迎北'"
      ]
     },
     "execution_count": 2,
     "metadata": {},
     "output_type": "execute_result"
    }
   ],
   "source": [
    "content = '北京欢迎你'\n",
    "content[1:-1]+content[0]"
   ]
  },
  {
   "cell_type": "code",
   "execution_count": 3,
   "metadata": {},
   "outputs": [],
   "source": [
    "l=[1,35,729,31]\n",
    "l.sort()"
   ]
  },
  {
   "cell_type": "code",
   "execution_count": 5,
   "metadata": {},
   "outputs": [
    {
     "name": "stdout",
     "output_type": "stream",
     "text": [
      "[1, 31, 35, 729]\n"
     ]
    }
   ],
   "source": [
    "print(l)"
   ]
  },
  {
   "cell_type": "code",
   "execution_count": 7,
   "metadata": {},
   "outputs": [],
   "source": [
    "import numpy as np\n",
    "position = np.arange(1,31,1)\n",
    "position = position.tolist()"
   ]
  },
  {
   "cell_type": "code",
   "execution_count": 8,
   "metadata": {},
   "outputs": [
    {
     "name": "stdout",
     "output_type": "stream",
     "text": [
      "[10, 11, 12, 13, 14, 15, 16, 17, 18, 19, 20, 21, 22, 23, 24, 25, 26, 27, 28, 29, 30, 1, 2, 3, 4, 5, 6, 7, 8]\n",
      "[19, 20, 21, 22, 23, 24, 25, 26, 27, 28, 29, 30, 1, 2, 3, 4, 5, 6, 7, 8, 10, 11, 12, 13, 14, 15, 16, 17]\n",
      "[28, 29, 30, 1, 2, 3, 4, 5, 6, 7, 8, 10, 11, 12, 13, 14, 15, 16, 17, 19, 20, 21, 22, 23, 24, 25, 26]\n",
      "[7, 8, 10, 11, 12, 13, 14, 15, 16, 17, 19, 20, 21, 22, 23, 24, 25, 26, 28, 29, 30, 1, 2, 3, 4, 5]\n",
      "[17, 19, 20, 21, 22, 23, 24, 25, 26, 28, 29, 30, 1, 2, 3, 4, 5, 7, 8, 10, 11, 12, 13, 14, 15]\n",
      "[28, 29, 30, 1, 2, 3, 4, 5, 7, 8, 10, 11, 12, 13, 14, 15, 17, 19, 20, 21, 22, 23, 24, 25]\n",
      "[8, 10, 11, 12, 13, 14, 15, 17, 19, 20, 21, 22, 23, 24, 25, 28, 29, 30, 1, 2, 3, 4, 5]\n",
      "[20, 21, 22, 23, 24, 25, 28, 29, 30, 1, 2, 3, 4, 5, 8, 10, 11, 12, 13, 14, 15, 17]\n",
      "[1, 2, 3, 4, 5, 8, 10, 11, 12, 13, 14, 15, 17, 20, 21, 22, 23, 24, 25, 28, 29]\n",
      "[13, 14, 15, 17, 20, 21, 22, 23, 24, 25, 28, 29, 1, 2, 3, 4, 5, 8, 10, 11]\n",
      "[25, 28, 29, 1, 2, 3, 4, 5, 8, 10, 11, 13, 14, 15, 17, 20, 21, 22, 23]\n",
      "[10, 11, 13, 14, 15, 17, 20, 21, 22, 23, 25, 28, 29, 1, 2, 3, 4, 5]\n",
      "[23, 25, 28, 29, 1, 2, 3, 4, 5, 10, 11, 13, 14, 15, 17, 20, 21]\n",
      "[10, 11, 13, 14, 15, 17, 20, 21, 23, 25, 28, 29, 1, 2, 3, 4]\n",
      "[25, 28, 29, 1, 2, 3, 4, 10, 11, 13, 14, 15, 17, 20, 21]\n",
      "[25, 28, 29, 1, 2, 3, 4, 10, 11, 13, 14, 15, 17, 20, 21]\n"
     ]
    }
   ],
   "source": [
    "while len(position)>15:\n",
    "    for k in range(9):\n",
    "        \n",
    "        if (k+1)%9==0:\n",
    "            position.pop(0)\n",
    "            print(position)\n",
    "        else:\n",
    "            new=position.copy()            \n",
    "            position=new[1:]+[new[0]]\n",
    "print(position)"
   ]
  },
  {
   "cell_type": "code",
   "execution_count": null,
   "metadata": {},
   "outputs": [],
   "source": []
  }
 ],
 "metadata": {
  "kernelspec": {
   "display_name": "Python 3",
   "language": "python",
   "name": "python3"
  },
  "language_info": {
   "codemirror_mode": {
    "name": "ipython",
    "version": 3
   },
   "file_extension": ".py",
   "mimetype": "text/x-python",
   "name": "python",
   "nbconvert_exporter": "python",
   "pygments_lexer": "ipython3",
   "version": "3.7.0"
  }
 },
 "nbformat": 4,
 "nbformat_minor": 2
}
